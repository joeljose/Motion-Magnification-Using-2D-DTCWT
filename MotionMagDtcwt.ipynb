{
  "nbformat": 4,
  "nbformat_minor": 0,
  "metadata": {
    "colab": {
      "name": "MotionMagDtcwt.ipynb",
      "provenance": [],
      "collapsed_sections": []
    },
    "kernelspec": {
      "display_name": "Python 3",
      "name": "python3"
    }
  },
  "cells": [
    {
      "cell_type": "markdown",
      "source": [
        "# Motion Magnification using 2D DTCWT\n",
        "\n",
        "We use python dtcwt module for the decomposition part."
      ],
      "metadata": {
        "id": "DQ1Wcj3OlOeI"
      }
    },
    {
      "cell_type": "code",
      "metadata": {
        "colab": {
          "base_uri": "https://localhost:8080/"
        },
        "id": "fBrfPCEdVLou",
        "outputId": "e5673119-4604-46ad-d348-9740ae3dea0c"
      },
      "source": [
        "pip install dtcwt"
      ],
      "execution_count": 1,
      "outputs": [
        {
          "output_type": "stream",
          "name": "stdout",
          "text": [
            "Collecting dtcwt\n",
            "  Downloading dtcwt-0.12.0.tar.gz (70 kB)\n",
            "\u001b[?25l\r\u001b[K     |████▋                           | 10 kB 15.8 MB/s eta 0:00:01\r\u001b[K     |█████████▎                      | 20 kB 9.2 MB/s eta 0:00:01\r\u001b[K     |█████████████▉                  | 30 kB 8.0 MB/s eta 0:00:01\r\u001b[K     |██████████████████▌             | 40 kB 3.6 MB/s eta 0:00:01\r\u001b[K     |███████████████████████▏        | 51 kB 3.6 MB/s eta 0:00:01\r\u001b[K     |███████████████████████████▊    | 61 kB 4.3 MB/s eta 0:00:01\r\u001b[K     |████████████████████████████████| 70 kB 3.2 MB/s \n",
            "\u001b[?25hRequirement already satisfied: numpy in /usr/local/lib/python3.7/dist-packages (from dtcwt) (1.21.5)\n",
            "Requirement already satisfied: six in /usr/local/lib/python3.7/dist-packages (from dtcwt) (1.15.0)\n",
            "Building wheels for collected packages: dtcwt\n",
            "  Building wheel for dtcwt (setup.py) ... \u001b[?25l\u001b[?25hdone\n",
            "  Created wheel for dtcwt: filename=dtcwt-0.12.0-py3-none-any.whl size=87884 sha256=3eac2765627a513a4aa9c00cfec047690972a91150d32599bf0ee3eeb6401465\n",
            "  Stored in directory: /root/.cache/pip/wheels/36/17/44/41d78d570172185f944f9b79f983905ab9072d70dbdb118710\n",
            "Successfully built dtcwt\n",
            "Installing collected packages: dtcwt\n",
            "Successfully installed dtcwt-0.12.0\n"
          ]
        }
      ]
    },
    {
      "cell_type": "code",
      "metadata": {
        "id": "wFhsecN1YuAo"
      },
      "source": [
        "import dtcwt\n",
        "from scipy import ndimage\n",
        "from scipy import signal\n",
        "import numpy as np\n",
        "import cv2\n",
        "import os\n",
        "import requests\n",
        "\n",
        "\n",
        "def phase(x):\n",
        "    ind = np.where(np.abs(x) > 1e-20)\n",
        "    ph = np.ones_like(x)\n",
        "    ph[ind] = x[ind]/np.abs(x[ind])\n",
        "    return(ph)\n",
        "\n",
        "def get_phases(pyramids,level):\n",
        "    sz = pyramids[0].highpasses[level].size\n",
        "    length = len(pyramids)\n",
        "    ph = np.empty((length,sz),pyramids[0].highpasses[level].dtype)\n",
        "    ph[0,:] = phase(pyramids[0].highpasses[level].flatten())\n",
        "    ph_prev = ph[0,:]\n",
        "    for i in range(1,length):\n",
        "        ph_cur = phase(pyramids[i].highpasses[level].flatten())\n",
        "        ph[i,:] = ph_cur / ph_prev\n",
        "        ph_prev = ph_cur\n",
        "    ang = np.angle(ph)\n",
        "    ang =np.cumsum(ang, axis =0)\n",
        "    return(ang)\n",
        "\n",
        "def flattop_filter1d(data,width, axis = 0, mode = 'reflect'):\n",
        "    window_size =  round(width/0.2327)\n",
        "    window = signal.flattop(window_size)\n",
        "    window = window/np.sum(window)\n",
        "    result = ndimage.convolve1d(data, window, axis = axis, mode = 'reflect')\n",
        "    return(result)\n",
        "\n",
        "def magnify_motions_2d(data, k = 8., width = 70):\n",
        "    nlevels = 8\n",
        "    tr = dtcwt.Transform2d()\n",
        "    pyramids = []\n",
        "    n = np.shape(data)[0]\n",
        "    #print('Forward DTCWT...', end = ' ', flush = 1)\n",
        "    for i in range(0,n):\n",
        "        pyramids.append(tr.forward(data[i,:,:],nlevels =nlevels))\n",
        "    #print('DONE')\n",
        "    #print('Modifying phase...', end = ' ', flush = 1)\n",
        "    for level in range(0,nlevels):\n",
        "        phase = get_phases(pyramids,level)\n",
        "        phase0 = flattop_filter1d(phase,width, axis = 0, mode = 'reflect')\n",
        "        phase = phase0 + (phase - phase0)*k\n",
        "        phase =  flattop_filter1d(phase,2.0, axis = 0, mode = 'reflect')\n",
        "        for i in range(0,n):\n",
        "            h = pyramids[i].highpasses[level]\n",
        "            abs_value = np.abs(h).flatten()\n",
        "            h = abs_value * np.exp(1j*phase[i,:])\n",
        "            pyramids[i].highpasses[level][:] = np.reshape(h,np.shape(pyramids[i].highpasses[level][:]))\n",
        "    result = np.empty_like(data)\n",
        "    #print('DONE')\n",
        "    #print('Inverse DTCWT...', end = ' ', flush = 1)\n",
        "    for i in range(0,n):\n",
        "        result[i,:,:] = tr.inverse(pyramids[i])\n",
        "    #print('DONE')\n",
        "    return(result)"
      ],
      "execution_count": 2,
      "outputs": []
    },
    {
      "cell_type": "markdown",
      "metadata": {
        "id": "Gn2ZF5bV-YwN"
      },
      "source": [
        "## Downloading the input video to our notebook\n",
        "To do a demo of our motion magnification algorithm we use a video which was used in the original paper. </br>\n",
        "You can alternatively use you own video as input too. You will have to upload the video to the colab notebook, and rename the 'filename' variable as the name of your video.</br>\n",
        "If you want to try your own video, comment the first line in the next code block and Uncomment the next line and enter your own filename.\n"
      ]
    },
    {
      "cell_type": "code",
      "metadata": {
        "id": "WxRdrFTKEZBX"
      },
      "source": [
        "filename = \"video.mp4\" # If you want to try your own video, comment this line\n",
        "                      # and Uncomment the next line and enter your own filename\n",
        "\n",
        "#filename=\"\"\n"
      ],
      "execution_count": 3,
      "outputs": []
    },
    {
      "cell_type": "markdown",
      "metadata": {
        "id": "XcwlbXbiCQqH"
      },
      "source": [
        "##helper function for downloading video\n",
        "You can skip the downloading part in this notebook if you are using your own video. "
      ]
    },
    {
      "cell_type": "code",
      "metadata": {
        "id": "W20NKOBICbIS"
      },
      "source": [
        "def download_file(url, dest_filename):\n",
        "    \"\"\"Downloads the file in given url\"\"\"\n",
        "    if os.path.isfile(dest_filename):\n",
        "        print('Already Downloaded: %s to %s' % (url, dest_filename))\n",
        "        return\n",
        "    print('Downloading: %s to %s' % (url, dest_filename))\n",
        "\n",
        "    response = requests.get(url, stream=True)\n",
        "    if not response.ok:\n",
        "        raise Exception(\"Couldn't download file\")\n",
        "\n",
        "    with open(dest_filename, 'wb') as fp:\n",
        "        for block in response.iter_content(1024):\n",
        "            fp.write(block)"
      ],
      "execution_count": 4,
      "outputs": []
    },
    {
      "cell_type": "markdown",
      "metadata": {
        "id": "QNdignSEDsF7"
      },
      "source": [
        "## Downloading....\n",
        "Skip the next code block if you are using your own video."
      ]
    },
    {
      "cell_type": "code",
      "metadata": {
        "colab": {
          "base_uri": "https://localhost:8080/"
        },
        "id": "tiQWMlz2D875",
        "outputId": "d9262de2-615b-43e5-ffef-0d9dabcdaf0c"
      },
      "source": [
        "download_file('http://people.csail.mit.edu/mrub/evm/video/face.mp4',filename)"
      ],
      "execution_count": 5,
      "outputs": [
        {
          "output_type": "stream",
          "name": "stdout",
          "text": [
            "Downloading: http://people.csail.mit.edu/mrub/evm/video/face.mp4 to video.mp4\n"
          ]
        }
      ]
    },
    {
      "cell_type": "markdown",
      "source": [
        "##Running the motion magnification"
      ],
      "metadata": {
        "id": "oD35ImMskpYk"
      }
    },
    {
      "cell_type": "code",
      "metadata": {
        "id": "nZHBs-BrQNIn"
      },
      "source": [
        "cap = cv2.VideoCapture(filename)\n",
        "\n",
        "fps = cap.get(cv2.CAP_PROP_FPS)\n",
        "frameCount = int(cap.get(cv2.CAP_PROP_FRAME_COUNT))\n",
        "frameWidth = int(cap.get(cv2.CAP_PROP_FRAME_WIDTH))\n",
        "frameHeight = int(cap.get(cv2.CAP_PROP_FRAME_HEIGHT))\n",
        "\n",
        "input_data_r = np.empty((frameCount, frameHeight, frameWidth), np.dtype('double'))\n",
        "input_data_g = np.empty((frameCount, frameHeight, frameWidth), np.dtype('double'))\n",
        "input_data_b = np.empty((frameCount, frameHeight, frameWidth), np.dtype('double'))\n",
        "\n",
        "fc = 0\n",
        "ret = True\n",
        "\n",
        "while (fc < frameCount  and ret):\n",
        "    ret, frame = cap.read()\n",
        "    input_data_b[fc]=frame[:,:,0]\n",
        "    input_data_g[fc]=frame[:,:,1]\n",
        "    input_data_r[fc]=frame[:,:,2]\n",
        "    fc += 1\n",
        "\n",
        "cap.release()\n",
        "\n",
        "print(\"Loaded video into numpy arrays...\")\n",
        "\n",
        "# mag_range=[3,5,7]\n",
        "# for k in mag_range:\n",
        "\n",
        "\n",
        "k= 3 #Magnification\n",
        "width= 80 # width\n",
        "\n",
        "\n",
        "\n",
        "result_r=magnify_motions_2d(input_data_r,k,width)\n",
        "result_uint8_r = result_r.astype(np.uint8)\n",
        "print('red channel done')\n",
        "result_g=magnify_motions_2d(input_data_g,k,width)\n",
        "result_uint8_g = result_g.astype(np.uint8)\n",
        "print('green channel done')\n",
        "result_b=magnify_motions_2d(input_data_b,k,width)\n",
        "result_uint8_b = result_b.astype(np.uint8)\n",
        "print('blue channel done')\n",
        "print('creating an empty numpy array...')\n",
        "result_uint8 = np.empty((frameCount,frameHeight, frameWidth,3), dtype=np.uint8)\n",
        "\n",
        "fc=0\n",
        "while (fc < frameCount):\n",
        "\n",
        "    result_uint8[fc][:,:,0] = result_uint8_b[fc]\n",
        "    result_uint8[fc][:,:,1] = result_uint8_g[fc]\n",
        "    result_uint8[fc][:,:,2] = result_uint8_r[fc]\n",
        "    fc += 1\n",
        "\n",
        "print('copied channels to a single data file')\n",
        "\n",
        "################# Save the Movie as mp4 ###############\n",
        "\n",
        "fourcc = cv2.VideoWriter_fourcc(*'MJPG')\n",
        "out = cv2.VideoWriter((\"mag_k\"+str(k)+\"_\"+filename),fourcc, fps, (frameWidth,frameHeight))\n",
        "  \n",
        "# running the loop \n",
        "\n",
        "fc = 0\n",
        "\n",
        "while (fc < frameCount):\n",
        "    frame = result_uint8[fc]\n",
        "    out.write(frame)\n",
        "    fc += 1\n",
        "\n",
        "out.release() \n",
        "print(\"Saved to output video file.\")"
      ],
      "execution_count": null,
      "outputs": []
    }
  ]
}